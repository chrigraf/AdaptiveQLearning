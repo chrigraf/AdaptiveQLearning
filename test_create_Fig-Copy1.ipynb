{
 "cells": [
  {
   "cell_type": "code",
   "execution_count": 1,
   "metadata": {},
   "outputs": [],
   "source": [
    "import matplotlib.pyplot as plt\n",
    "import seaborn as sns\n",
    "import matplotlib.patches as patches\n",
    "import pickle\n",
    "import numpy as np\n",
    "from src import agent\n",
    "from adaptive_Agent import AdaptiveDiscretization\n",
    "from eNet_Agent import eNet\n",
    "import pandas as pd"
   ]
  },
  {
   "cell_type": "code",
   "execution_count": 2,
   "metadata": {},
   "outputs": [],
   "source": [
    "param = '1'\n",
    "plt.rc('font', family='serif')\n",
    "plt.rc('xtick', labelsize='x-small')\n",
    "plt.rc('ytick', labelsize='x-small')\n",
    "plt.rcParams.update({'font.size': 8})"
   ]
  },
  {
   "cell_type": "code",
   "execution_count": 3,
   "metadata": {},
   "outputs": [
    {
     "data": {
      "text/plain": [
       "<Figure size 518.4x374.4 with 0 Axes>"
      ]
     },
     "metadata": {},
     "output_type": "display_data"
    }
   ],
   "source": [
    "fig = plt.figure(figsize=(7.2, 5.2))"
   ]
  },
  {
   "cell_type": "code",
   "execution_count": 4,
   "metadata": {},
   "outputs": [],
   "source": [
    "epLen = 5"
   ]
  },
  {
   "cell_type": "code",
   "execution_count": 17,
   "metadata": {},
   "outputs": [
    {
     "name": "stdout",
     "output_type": "stream",
     "text": [
      "         Unnamed: 0  iteration  epReward  Number of Balls  episode\n",
      "episode                                                           \n",
      "1509.0      18874.0       12.5  1.226022            500.0   1509.0\n",
      "1609.0      37834.0       23.5  1.448576            500.0   1609.0\n",
      "1709.0      36764.0       21.5  1.251809            500.0   1709.0\n",
      "1809.0      22624.0       12.5  1.353842            500.0   1809.0\n",
      "1909.0      23874.0       12.5  1.380607            500.0   1909.0\n",
      "         Unnamed: 0  iteration  epReward  Number of Balls  episode\n",
      "episode                                                           \n",
      "1509.0      18874.0       12.5  1.421534          266.750   1509.0\n",
      "1609.0      37834.0       23.5  1.519167          264.500   1609.0\n",
      "1709.0      36764.0       21.5  1.428857          272.000   1709.0\n",
      "1809.0      22624.0       12.5  1.432579          275.625   1809.0\n",
      "1909.0      23874.0       12.5  1.472670          281.625   1909.0\n",
      "         Unnamed: 0  iteration  epReward  Number of Balls  episode\n",
      "episode                                                           \n",
      "1509.0      18874.0       12.5  1.373364           262.00   1509.0\n",
      "1609.0      37834.0       23.5  1.539522           261.50   1609.0\n",
      "1709.0      36764.0       21.5  1.430475           269.00   1709.0\n",
      "1809.0      22624.0       12.5  1.361869           275.75   1809.0\n",
      "1909.0      23874.0       12.5  1.406365           284.50   1909.0\n",
      "         Unnamed: 0  iteration  epReward  Number of Balls  episode\n",
      "episode                                                           \n",
      "1509.0      18874.0       12.5  4.017696            500.0   1509.0\n",
      "1609.0      37834.0       23.5  3.973816            500.0   1609.0\n",
      "1709.0      36764.0       21.5  4.274896            500.0   1709.0\n",
      "1809.0      22624.0       12.5  4.092404            500.0   1809.0\n",
      "1909.0      23874.0       12.5  4.092533            500.0   1909.0\n",
      "         Unnamed: 0  iteration  epReward  Number of Balls  episode\n",
      "episode                                                           \n",
      "1509.0      18874.0       12.5  4.349552          200.000   1509.0\n",
      "1609.0      37834.0       23.5  4.526431          210.500   1609.0\n",
      "1709.0      36764.0       21.5  4.403423          217.500   1709.0\n",
      "1809.0      22624.0       12.5  4.343460          220.750   1809.0\n",
      "1909.0      23874.0       12.5  4.339120          228.125   1909.0\n",
      "         Unnamed: 0  iteration  epReward  Number of Balls  episode\n",
      "episode                                                           \n",
      "1509.0      18874.0       12.5  4.309692          282.250   1509.0\n",
      "1609.0      37834.0       23.5  4.495614          294.500   1609.0\n",
      "1709.0      36764.0       21.5  4.315719          292.500   1709.0\n",
      "1809.0      22624.0       12.5  4.291701          298.750   1809.0\n",
      "1909.0      23874.0       12.5  4.332431          304.125   1909.0\n"
     ]
    },
    {
     "data": {
      "image/png": "[encoded data removed]",
      "text/plain": [
       "<Figure size 417.6x252 with 2 Axes>"
      ]
     },
     "metadata": {
      "needs_background": "light"
     },
     "output_type": "display_data"
    }
   ],
   "source": [
    "problem_type = 'oil'\n",
    "problem = 'sparse'\n",
    "param = '1'\n",
    "\n",
    "name_adapt = './data/oil_'+problem+'_'+'adapt_'+param+'.csv'\n",
    "name_adapt_model_based = './data/oil_'+problem+'_'+'adapt_model_'+param+'.csv'\n",
    "# name_adapt_flag_model_based = './data/oil_'+problem+'_'+'adapt_flag_'+param+'.csv'\n",
    "name_net = './data/oil_'+problem+'_'+'net_'+param+'.csv'\n",
    "name_enet_model = './data/oil_'+problem+'_'+'net_model_'+param+'.csv'\n",
    "fig_name = './figures/oil_'+problem+'_'+param+'.pdf'\n",
    "\n",
    "dt_adapt_model = pd.read_csv(name_adapt_model_based).groupby(['episode']).mean()\n",
    "dt_net_model = pd.read_csv(name_enet_model).groupby(['episode']).mean()\n",
    "dt_adapt = pd.read_csv(name_adapt).groupby(['episode']).mean()\n",
    "dt_net = pd.read_csv(name_net).groupby(['episode']).mean()\n",
    "\n",
    "max_val = max(dt_adapt.tail(1)['epReward'].iloc[0], dt_adapt_model.tail(1)['epReward'].iloc[0], dt_net.tail(1)['epReward'].iloc[0], dt_net_model.tail(1)['epReward'].iloc[0])\n",
    "min_val = min(dt_adapt.head(1)['epReward'].iloc[0], dt_adapt_model.head(1)['epReward'].iloc[0], dt_net.head(1)['epReward'].iloc[0], dt_net_model.head(1)['epReward'].iloc[0])\n",
    "\n",
    "dt_adapt_model['episode'] = dt_adapt_model.index.values\n",
    "dt_adapt_model = dt_adapt_model.iloc[::10, :]\n",
    "dt_net_model['episode'] = dt_net_model.index.values\n",
    "dt_net_model = dt_net_model.iloc[::10, :]\n",
    "dt_adapt['episode'] = dt_adapt.index.values\n",
    "dt_net['episode'] = dt_net.index.values\n",
    "dt_net = dt_net.iloc[::10, :]\n",
    "dt_adapt = dt_adapt.iloc[::10, :]\n",
    "\n",
    "\n",
    "fig = plt.figure(figsize=(5.8, 3.5))\n",
    "plt.subplot(2,2,1)\n",
    "\n",
    "plt.plot(dt_adapt['episode'], dt_adapt['epReward'], label='AdaQL')\n",
    "plt.plot(dt_adapt_model['episode'], dt_adapt_model['epReward'], label='AdaMB', linestyle='--')\n",
    "# plt.plot(dt_adapt_model_flag['episode'], dt_adapt_model_flag['epReward'], label='ModelAdaptiveFlag', linestyle='--')\n",
    "plt.plot(dt_net_model['episode'], dt_net_model['epReward'], label='epsilonMB', linestyle='--')\n",
    "plt.plot(dt_net['episode'], dt_net['epReward'], label = 'epsilonQL', linestyle='--')\n",
    "\n",
    "plt.ylim(min_val - .2,max_val+.2)\n",
    "plt.xlabel('Episode')\n",
    "plt.ylabel('Observed Reward')\n",
    "# plt.legend()\n",
    "plt.title('Oil Problem with Sparse Rewards')\n",
    "\n",
    "print(dt_net.tail())\n",
    "print(dt_adapt.tail())\n",
    "print(dt_adapt_model.tail())\n",
    "\n",
    "problem = 'beta'\n",
    "param = '0'\n",
    "\n",
    "\n",
    "name_adapt = './data/ambulance_'+problem+'_'+'adapt_'+param+'.csv'\n",
    "name_adapt_model_based = './data/ambulance_'+problem+'_'+'adapt_model_'+param+'.csv'\n",
    "# name_adapt_flag_model_based = './data/oil_'+problem+'_'+'adapt_flag_'+param+'.csv'\n",
    "name_net = './data/ambulance_'+problem+'_'+'net_'+param+'.csv'\n",
    "name_enet_model = './data/ambulance_'+problem+'_'+'net_model_'+param+'.csv'\n",
    "# fig_name = './figures/ambulance_'+problem+'_'+param+'.pdf'\n",
    "\n",
    "dt_adapt_model = pd.read_csv(name_adapt_model_based).groupby(['episode']).mean()\n",
    "dt_net_model = pd.read_csv(name_enet_model).groupby(['episode']).mean()\n",
    "dt_adapt = pd.read_csv(name_adapt).groupby(['episode']).mean()\n",
    "dt_net = pd.read_csv(name_net).groupby(['episode']).mean()\n",
    "\n",
    "max_val = max(dt_adapt.tail(1)['epReward'].iloc[0], dt_adapt_model.tail(1)['epReward'].iloc[0], dt_net.tail(1)['epReward'].iloc[0], dt_net_model.tail(1)['epReward'].iloc[0])\n",
    "min_val = min(dt_adapt.head(1)['epReward'].iloc[0], dt_adapt_model.head(1)['epReward'].iloc[0], dt_net.head(1)['epReward'].iloc[0], dt_net_model.head(1)['epReward'].iloc[0])\n",
    "\n",
    "dt_adapt_model['episode'] = dt_adapt_model.index.values\n",
    "dt_adapt_model = dt_adapt_model.iloc[::10, :]\n",
    "dt_net_model['episode'] = dt_net_model.index.values\n",
    "dt_net_model = dt_net_model.iloc[::10, :]\n",
    "dt_adapt['episode'] = dt_adapt.index.values\n",
    "dt_net['episode'] = dt_net.index.values\n",
    "dt_net = dt_net.iloc[::10, :]\n",
    "dt_adapt = dt_adapt.iloc[::10, :]\n",
    "\n",
    "plt.subplot(2,2,2)\n",
    "\n",
    "plt.plot(dt_adapt['episode'], dt_adapt['epReward'], label='AdaQL')\n",
    "plt.plot(dt_adapt_model['episode'], dt_adapt_model['epReward'], label='AdaMB', linestyle='--')\n",
    "# plt.plot(dt_adapt_model_flag['episode'], dt_adapt_model_flag['epReward'], label='ModelAdaptiveFlag', linestyle='--')\n",
    "plt.plot(dt_net_model['episode'], dt_net_model['epReward'], label='epsilonMB', linestyle='--')\n",
    "plt.plot(dt_net['episode'], dt_net['epReward'], label = 'epsilonQL', linestyle='--')\n",
    "max_val = max(dt_adapt.tail(1)['epReward'].iloc[0], dt_adapt_model.tail(1)['epReward'].iloc[0], dt_net.tail(1)['epReward'].iloc[0], dt_net_model.tail(1)['epReward'].iloc[0])\n",
    "\n",
    "\n",
    "plt.ylim(min_val-.2,max_val+.2)\n",
    "plt.xlabel('Episode')\n",
    "plt.ylabel('Observed Reward')\n",
    "plt.legend()\n",
    "plt.title('Ambulance Problem with Beta Arrivals')\n",
    "\n",
    "print(dt_net.tail())\n",
    "print(dt_adapt.tail())\n",
    "print(dt_adapt_model.tail())\n",
    "\n",
    "plt.tight_layout()\n",
    "# fig.savefig('figures/combine_plot_paper.pdf', bbox_inches = 'tight',\n",
    "#     pad_inches = 0.01, dpi=900)\n",
    "plt.show()\n",
    "\n",
    "\n",
    "\n",
    "\n",
    "\n"
   ]
  }
 ],
 "metadata": {
  "kernelspec": {
   "display_name": "Python 3",
   "language": "python",
   "name": "python3"
  },
  "language_info": {
   "codemirror_mode": {
    "name": "ipython",
    "version": 3
   },
   "file_extension": ".py",
   "mimetype": "text/x-python",
   "name": "python",
   "nbconvert_exporter": "python",
   "pygments_lexer": "ipython3",
   "version": "3.7.7"
  }
 },
 "nbformat": 4,
 "nbformat_minor": 4
}
