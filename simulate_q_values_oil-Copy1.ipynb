{
 "cells": [
  {
   "cell_type": "code",
   "execution_count": 21,
   "metadata": {},
   "outputs": [],
   "source": [
    "import matplotlib.pyplot as plt\n",
    "import seaborn as sns\n",
    "import numpy as np\n",
    "import matplotlib.patches as patches\n",
    "from scipy.stats import norm\n",
    "\n",
    "plt.rc('font', family='serif')\n",
    "plt.rc('xtick', labelsize='x-small')\n",
    "plt.rc('ytick', labelsize='x-small')\n",
    "plt.rcParams.update({'font.size': 8})"
   ]
  },
  {
   "cell_type": "code",
   "execution_count": 22,
   "metadata": {},
   "outputs": [],
   "source": [
    "grid_size = .01\n",
    "H = 5"
   ]
  },
  {
   "cell_type": "code",
   "execution_count": 23,
   "metadata": {},
   "outputs": [],
   "source": [
    "grid = np.arange(0, 1+grid_size, grid_size)"
   ]
  },
  {
   "cell_type": "code",
   "execution_count": 24,
   "metadata": {},
   "outputs": [],
   "source": [
    "Q_vals = np.zeros([H, len(grid), len(grid)])\n",
    "r_vals = np.zeros([H, len(grid), len(grid)])\n",
    "V_vals = np.zeros([H, len(grid)])"
   ]
  },
  {
   "cell_type": "code",
   "execution_count": 25,
   "metadata": {},
   "outputs": [],
   "source": [
    "# ## QUADRATIC\n",
    "\n",
    "# def f(h,state,action):\n",
    "#     return 1 - 10*(state - .75)**2\n",
    "# def sigma(h, state, action):\n",
    "#     return 0\n",
    "\n",
    "# ## LAPLACE\n",
    "def f(h, state, action):\n",
    "    return 1 - np.exp(-1*np.abs(state - .7))\n",
    "def sigma(h, state, action):\n",
    "    return 0\n",
    "# ## NOISE\n",
    "# def f(h, state, action):\n",
    "#     return 1 - np.exp(-10*np.abs(state*action - .7))\n",
    "# def sigma(h, state, action):\n",
    "#     return .1*(state + action)**2\n",
    "# SPARSE \n",
    "def f(h, state, action):\n",
    "    if h == 0:\n",
    "        return (1/5)*(h+1)*np.exp(-1*np.abs(state - .5))\n",
    "    elif h == 1:\n",
    "        return (1/5)*(h+1)*np.exp(-1*np.abs(state - .25))  \n",
    "    elif h == 2:\n",
    "        return (1/5)*(h+1)*np.exp(-1*np.abs(state - .5))     \n",
    "    elif h == 3:\n",
    "        return (1/5)*(h+1)*np.exp(-1*np.abs(state - .75))     \n",
    "    elif h == 4:\n",
    "        return (1/5)*(h+1)*np.exp(-1*np.abs(state - 1))    \n",
    "def sigma(h, state, action):\n",
    "    return .025*(state+action)**2\n",
    "\n",
    "alpha = 1"
   ]
  },
  {
   "cell_type": "code",
   "execution_count": 26,
   "metadata": {},
   "outputs": [
    {
     "name": "stdout",
     "output_type": "stream",
     "text": [
      "4\n",
      "3\n",
      "2\n",
      "1\n",
      "0\n"
     ]
    }
   ],
   "source": [
    "for h in np.arange(H-1, -1, -1):\n",
    "    print(h)\n",
    "    for s in range(len(grid)):\n",
    "        for a in range(len(grid)):\n",
    "            state = grid[s]\n",
    "            action = grid[a]\n",
    "            r_vals[h,s,a]= min(max(f(h,state,action) - alpha*np.abs(state-action),0),1)\n",
    "            if h == H-1:\n",
    "                Q_vals[h,s,a] = min(max(f(h,state,action) - alpha*np.abs(state-action),0),1)\n",
    "            else:\n",
    "                variance = sigma(h, state, action)\n",
    "                if variance == 0:\n",
    "                    Q_vals[h,s,a] = min(max(f(h,state,action) - alpha*np.abs(state-action),0),1) + V_vals[h+1, a]\n",
    "                else:\n",
    "                    lhs = np.copy(grid)\n",
    "                    lhs[0] = float('-inf')\n",
    "                    \n",
    "                    rhs = np.copy(grid)+grid_size\n",
    "                    rhs[-1] = float('inf')\n",
    "                    weights = norm.cdf(rhs, action, np.sqrt(variance)) \\\n",
    "                                        - norm.cdf(lhs, action, np.sqrt(variance))\n",
    "\n",
    "                    v_Est = np.dot(weights, V_vals[h+1, :])\n",
    "                    Q_vals[h,s,a] = min(max(f(h,state,action) - alpha*np.abs(state-action),0),1) + v_Est\n",
    "                    \n",
    "        V_vals[h,s] = np.max(Q_vals[h,s,:])"
   ]
  },
  {
   "cell_type": "code",
   "execution_count": null,
   "metadata": {},
   "outputs": [],
   "source": []
  },
  {
   "cell_type": "code",
   "execution_count": 11,
   "metadata": {},
   "outputs": [
    {
     "data": {
      "image/png": "[encoded data removed]",
      "text/plain": [
       "<Figure size 432x288 with 2 Axes>"
      ]
     },
     "metadata": {
      "needs_background": "light"
     },
     "output_type": "display_data"
    }
   ],
   "source": [
    "h = 1\n",
    "fig = plt.figure()\n",
    "s = plt.subplot(1,2,1)\n",
    "# s = fig.add_subplot(1,1,1, xlabel='State', ylabel='Action')\n",
    "plt.title('Sparse Reward')\n",
    "im = s.imshow(Q_vals[h,:,:], cmap='RdYlGn', extent = (0,1,0,1), origin='lower')\n",
    "\n",
    "\n",
    "s = plt.subplot(1,2,2)\n",
    "# s = fig.add_subplot(1,1,1, xlabel='State', ylabel='Action')\n",
    "plt.title('Quadratic Setting')\n",
    "im = s.imshow(Q_vals_2[h,:,:], cmap='RdYlGn', extent = (0,1,0,1), origin='lower')\n",
    "\n",
    "plt.show()\n",
    "\n",
    "plt.tight_layout()\n",
    "fig.savefig('./figures/sparse_and_quadratic.pdf', bbox_inches = 'tight',\n",
    "    pad_inches = 0.01, dpi=900)\n",
    "plt.close(\"all\")"
   ]
  },
  {
   "cell_type": "code",
   "execution_count": null,
   "metadata": {},
   "outputs": [],
   "source": [
    "fig = plt.figure()\n",
    "s = fig.add_subplot(1,1,1, xlabel='State', ylabel='Action')\n",
    "plt.title('Heat Map of $Q$ Values')\n",
    "im = s.imshow(Q_vals[h,:,:], cmap='RdYlGn', extent = (0,1,0,1), origin='lower')\n",
    "fig.colorbar(im)"
   ]
  },
  {
   "cell_type": "code",
   "execution_count": null,
   "metadata": {},
   "outputs": [],
   "source": []
  },
  {
   "cell_type": "code",
   "execution_count": null,
   "metadata": {},
   "outputs": [],
   "source": [
    "fig = plt.figure(figsize=(7.2, 7.5))\n",
    "plt.title('True Q-Values of Problem')\n",
    "s = plt.subplot(2,2,1)\n",
    "plt.xlabel('State')\n",
    "plt.ylabel('Action')\n",
    "plt.title('Step One')\n",
    "im = s.imshow(Q_vals[1,:,:], cmap='RdYlGn', extent = (0,1,0,1), origin='lower')\n",
    "fig.colorbar(im)\n",
    "\n",
    "s = plt.subplot(2,2,2)\n",
    "plt.xlabel('State')\n",
    "plt.ylabel('Action')\n",
    "plt.title('Step Two')\n",
    "im = s.imshow(Q_vals[2,:,:], cmap='RdYlGn', extent = (0,1,0,1), origin='lower')\n",
    "fig.colorbar(im)\n",
    "\n",
    "s = plt.subplot(2,2,3)\n",
    "plt.xlabel('State')\n",
    "plt.ylabel('Action')\n",
    "plt.title('Step Three')\n",
    "im = s.imshow(Q_vals[3,:,:], cmap='RdYlGn', extent = (0,1,0,1), origin='lower')\n",
    "fig.colorbar(im)\n",
    "\n",
    "s = plt.subplot(2,2,4)\n",
    "plt.xlabel('State')\n",
    "plt.ylabel('Action')\n",
    "plt.title('Step Four')\n",
    "im = s.imshow(Q_vals[4,:,:], cmap='RdYlGn', extent = (0,1,0,1), origin='lower')\n",
    "fig.colorbar(im)\n",
    "\n",
    "plt.tight_layout()\n",
    "fig.savefig('./figures/laplace_10.pdf', bbox_inches = 'tight',\n",
    "    pad_inches = 0.01, dpi=900)\n",
    "plt.close(\"all\")"
   ]
  }
 ],
 "metadata": {
  "kernelspec": {
   "display_name": "Python 3",
   "language": "python",
   "name": "python3"
  },
  "language_info": {
   "codemirror_mode": {
    "name": "ipython",
    "version": 3
   },
   "file_extension": ".py",
   "mimetype": "text/x-python",
   "name": "python",
   "nbconvert_exporter": "python",
   "pygments_lexer": "ipython3",
   "version": "3.7.7"
  }
 },
 "nbformat": 4,
 "nbformat_minor": 4
}
