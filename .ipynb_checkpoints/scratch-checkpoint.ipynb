{
 "cells": [
  {
   "cell_type": "code",
   "execution_count": 1,
   "metadata": {},
   "outputs": [],
   "source": [
    "import numpy as np\n",
    "import importlib\n",
    "from adaptive_model_Agent import AdaptiveModelBasedDiscretization\n",
    "from src import environment\n",
    "from src import experiment\n",
    "from src import agent\n",
    "from tree_model_based import Node, Tree\n"
   ]
  },
  {
   "cell_type": "code",
   "execution_count": 2,
   "metadata": {},
   "outputs": [],
   "source": [
    "''' Defining parameters to be used in the experiment'''\n",
    "\n",
    "epLen = 5\n",
    "nEps = 2000\n",
    "numIters = 1\n",
    "loc = 0.8+np.pi/60\n",
    "scale = 2\n",
    "def arrivals():\n",
    "    return np.random.beta(5,2)\n",
    "\n",
    "alpha = 1\n",
    "starting_state = 0.5\n",
    "\n",
    "env = environment.make_ambulanceEnvMDP(epLen, arrivals, alpha, starting_state)"
   ]
  },
  {
   "cell_type": "code",
   "execution_count": 3,
   "metadata": {},
   "outputs": [
    {
     "name": "stdout",
     "output_type": "stream",
     "text": [
      "5\n"
     ]
    }
   ],
   "source": [
    "print(epLen)"
   ]
  },
  {
   "cell_type": "code",
   "execution_count": 4,
   "metadata": {},
   "outputs": [],
   "source": [
    "dict = {'seed': 1, 'epFreq' : 1, 'targetPath': './tmp.csv', 'deBug' : False, 'nEps': nEps, 'recFreq' : 10, 'numIters' : numIters}\n",
    "agent = AdaptiveModelBasedDiscretization(epLen, nEps, 0.1)\n",
    "#exp = experiment.Experiment(env, agent_list_adap, dict)"
   ]
  },
  {
   "cell_type": "code",
   "execution_count": 5,
   "metadata": {
    "scrolled": true
   },
   "outputs": [
    {
     "name": "stdout",
     "output_type": "stream",
     "text": [
      "**************************************************\n",
      "Running experiment\n",
      "**************************************************\n",
      "Episode : 1\n",
      "Updating observations at step: 0\n",
      "Adjusting the induced state partition\n",
      "Checking lengths: \n",
      "2\n",
      "2\n",
      "Updating observations at step: 1\n",
      "Adjusting the induced state partition\n",
      "Checking lengths: \n",
      "2\n",
      "2\n",
      "<class 'tree_model_based.Node'>\n",
      "2\n",
      "<class 'tree_model_based.Node'>\n",
      "3\n",
      "<class 'tree_model_based.Node'>\n",
      "4\n",
      "<class 'tree_model_based.Node'>\n",
      "5\n",
      "Updating observations at step: 2\n",
      "Adjusting the induced state partition\n",
      "Checking lengths: \n",
      "2\n",
      "2\n",
      "<class 'tree_model_based.Node'>\n",
      "2\n",
      "<class 'tree_model_based.Node'>\n",
      "3\n",
      "<class 'tree_model_based.Node'>\n",
      "4\n",
      "<class 'tree_model_based.Node'>\n",
      "5\n",
      "Updating observations at step: 3\n",
      "Adjusting the induced state partition\n",
      "Checking lengths: \n",
      "2\n",
      "2\n",
      "<class 'tree_model_based.Node'>\n",
      "2\n",
      "<class 'tree_model_based.Node'>\n",
      "3\n",
      "<class 'tree_model_based.Node'>\n",
      "4\n",
      "<class 'tree_model_based.Node'>\n",
      "5\n",
      "Updating observations at step: 4\n",
      "Adjusting the induced state partition\n",
      "Checking lengths: \n",
      "2\n",
      "2\n",
      "<class 'tree_model_based.Node'>\n",
      "2\n",
      "<class 'tree_model_based.Node'>\n",
      "3\n",
      "<class 'tree_model_based.Node'>\n",
      "4\n",
      "<class 'tree_model_based.Node'>\n",
      "5\n",
      "Total Reward: 2.738489946233362\n",
      "Episode : 2\n",
      "Updating observations at step: 0\n"
     ]
    },
    {
     "ename": "ValueError",
     "evalue": "shapes (2,) and (5,) not aligned: 2 (dim 0) != 5 (dim 0)",
     "output_type": "error",
     "traceback": [
      "\u001b[1;31m---------------------------------------------------------------------------\u001b[0m",
      "\u001b[1;31mValueError\u001b[0m                                Traceback (most recent call last)",
      "\u001b[1;32m<ipython-input-5-9528d5a9ca30>\u001b[0m in \u001b[0;36m<module>\u001b[1;34m\u001b[0m\n\u001b[0;32m      1\u001b[0m \u001b[0mexp\u001b[0m \u001b[1;33m=\u001b[0m \u001b[0mexperiment\u001b[0m\u001b[1;33m.\u001b[0m\u001b[0mExperiment\u001b[0m\u001b[1;33m(\u001b[0m\u001b[0menv\u001b[0m\u001b[1;33m,\u001b[0m \u001b[1;33m[\u001b[0m\u001b[0magent\u001b[0m\u001b[1;33m]\u001b[0m\u001b[1;33m,\u001b[0m \u001b[0mdict\u001b[0m\u001b[1;33m)\u001b[0m\u001b[1;33m\u001b[0m\u001b[1;33m\u001b[0m\u001b[0m\n\u001b[1;32m----> 2\u001b[1;33m \u001b[0madap\u001b[0m \u001b[1;33m=\u001b[0m \u001b[0mexp\u001b[0m\u001b[1;33m.\u001b[0m\u001b[0mrun\u001b[0m\u001b[1;33m(\u001b[0m\u001b[1;33m)\u001b[0m\u001b[1;33m\u001b[0m\u001b[1;33m\u001b[0m\u001b[0m\n\u001b[0m",
      "\u001b[1;32m~\\Documents\\GitHub\\AdaptiveQLearning\\src\\experiment.py\u001b[0m in \u001b[0;36mrun\u001b[1;34m(self)\u001b[0m\n\u001b[0;32m     74\u001b[0m                     \u001b[0mepReward\u001b[0m \u001b[1;33m+=\u001b[0m \u001b[0mreward\u001b[0m\u001b[1;33m\u001b[0m\u001b[1;33m\u001b[0m\u001b[0m\n\u001b[0;32m     75\u001b[0m \u001b[1;33m\u001b[0m\u001b[0m\n\u001b[1;32m---> 76\u001b[1;33m                     \u001b[0magent\u001b[0m\u001b[1;33m.\u001b[0m\u001b[0mupdate_obs\u001b[0m\u001b[1;33m(\u001b[0m\u001b[0moldState\u001b[0m\u001b[1;33m,\u001b[0m \u001b[0maction\u001b[0m\u001b[1;33m,\u001b[0m \u001b[0mreward\u001b[0m\u001b[1;33m,\u001b[0m \u001b[0mnewState\u001b[0m\u001b[1;33m,\u001b[0m \u001b[0mh\u001b[0m\u001b[1;33m)\u001b[0m\u001b[1;33m\u001b[0m\u001b[1;33m\u001b[0m\u001b[0m\n\u001b[0m\u001b[0;32m     77\u001b[0m                     \u001b[0moldState\u001b[0m \u001b[1;33m=\u001b[0m \u001b[0mnewState\u001b[0m\u001b[1;33m\u001b[0m\u001b[1;33m\u001b[0m\u001b[0m\n\u001b[0;32m     78\u001b[0m                     \u001b[0mh\u001b[0m \u001b[1;33m=\u001b[0m \u001b[0mh\u001b[0m \u001b[1;33m+\u001b[0m \u001b[1;36m1\u001b[0m\u001b[1;33m\u001b[0m\u001b[1;33m\u001b[0m\u001b[0m\n",
      "\u001b[1;32m~\\Documents\\GitHub\\AdaptiveQLearning\\adaptive_model_Agent.py\u001b[0m in \u001b[0;36mupdate_obs\u001b[1;34m(self, obs, action, reward, newObs, timestep)\u001b[0m\n\u001b[0;32m     73\u001b[0m             \u001b[1;31m# print(next_tree.vEst)\u001b[0m\u001b[1;33m\u001b[0m\u001b[1;33m\u001b[0m\u001b[1;33m\u001b[0m\u001b[0m\n\u001b[0;32m     74\u001b[0m             \u001b[1;31m# print(np.dot(np.asarray(next_tree.vEst), transition / np.sum(transition)))\u001b[0m\u001b[1;33m\u001b[0m\u001b[1;33m\u001b[0m\u001b[1;33m\u001b[0m\u001b[0m\n\u001b[1;32m---> 75\u001b[1;33m             \u001b[0mvEst\u001b[0m \u001b[1;33m=\u001b[0m \u001b[0mmin\u001b[0m\u001b[1;33m(\u001b[0m\u001b[0mself\u001b[0m\u001b[1;33m.\u001b[0m\u001b[0mepLen\u001b[0m\u001b[1;33m,\u001b[0m \u001b[0mnp\u001b[0m\u001b[1;33m.\u001b[0m\u001b[0mdot\u001b[0m\u001b[1;33m(\u001b[0m\u001b[0mnp\u001b[0m\u001b[1;33m.\u001b[0m\u001b[0masarray\u001b[0m\u001b[1;33m(\u001b[0m\u001b[0mnext_tree\u001b[0m\u001b[1;33m.\u001b[0m\u001b[0mvEst\u001b[0m\u001b[1;33m)\u001b[0m\u001b[1;33m,\u001b[0m \u001b[0mtransition\u001b[0m \u001b[1;33m/\u001b[0m \u001b[0mnp\u001b[0m\u001b[1;33m.\u001b[0m\u001b[0msum\u001b[0m\u001b[1;33m(\u001b[0m\u001b[0mtransition\u001b[0m\u001b[1;33m)\u001b[0m\u001b[1;33m)\u001b[0m\u001b[1;33m)\u001b[0m\u001b[1;33m\u001b[0m\u001b[1;33m\u001b[0m\u001b[0m\n\u001b[0m\u001b[0;32m     76\u001b[0m \u001b[1;33m\u001b[0m\u001b[0m\n\u001b[0;32m     77\u001b[0m         \u001b[0mbonus\u001b[0m \u001b[1;33m=\u001b[0m \u001b[0mself\u001b[0m\u001b[1;33m.\u001b[0m\u001b[0mscaling\u001b[0m\u001b[1;33m*\u001b[0m\u001b[0mnp\u001b[0m\u001b[1;33m.\u001b[0m\u001b[0msqrt\u001b[0m\u001b[1;33m(\u001b[0m\u001b[1;36m1\u001b[0m\u001b[1;33m/\u001b[0m\u001b[0mt\u001b[0m\u001b[1;33m)\u001b[0m\u001b[1;33m\u001b[0m\u001b[1;33m\u001b[0m\u001b[0m\n",
      "\u001b[1;32m<__array_function__ internals>\u001b[0m in \u001b[0;36mdot\u001b[1;34m(*args, **kwargs)\u001b[0m\n",
      "\u001b[1;31mValueError\u001b[0m: shapes (2,) and (5,) not aligned: 2 (dim 0) != 5 (dim 0)"
     ]
    }
   ],
   "source": [
    "exp = experiment.Experiment(env, [agent], dict)\n",
    "adap = exp.run()"
   ]
  },
  {
   "cell_type": "code",
   "execution_count": null,
   "metadata": {},
   "outputs": [],
   "source": [
    "x = [0.5]"
   ]
  },
  {
   "cell_type": "code",
   "execution_count": null,
   "metadata": {},
   "outputs": [],
   "source": [
    "np.argmin(np.asarray(x) - .2)"
   ]
  }
 ],
 "metadata": {
  "kernelspec": {
   "display_name": "Python 3",
   "language": "python",
   "name": "python3"
  },
  "language_info": {
   "codemirror_mode": {
    "name": "ipython",
    "version": 3
   },
   "file_extension": ".py",
   "mimetype": "text/x-python",
   "name": "python",
   "nbconvert_exporter": "python",
   "pygments_lexer": "ipython3",
   "version": "3.7.7"
  }
 },
 "nbformat": 4,
 "nbformat_minor": 4
}
